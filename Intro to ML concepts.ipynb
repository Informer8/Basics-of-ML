{
 "cells": [
  {
   "cell_type": "markdown",
   "id": "48d553fa",
   "metadata": {},
   "source": [
    "# Assignment 1: Introduction to Machine Learning Concepts and Simple     Implementation"
   ]
  },
  {
   "cell_type": "markdown",
   "id": "857acdb1",
   "metadata": {},
   "source": [
    "## Conceptual Understanding"
   ]
  },
  {
   "cell_type": "markdown",
   "id": "0e637e70",
   "metadata": {},
   "source": [
    "Provide a brief overview of machine learning, including the difference between supervised and unsupervised learning.\n",
    "Explain key terms such as features, labels, training data, testing data, and model evaluation metrics."
   ]
  },
  {
   "cell_type": "markdown",
   "id": "9ef16ebe",
   "metadata": {},
   "source": [
    "Machine learning is a branch of artificial intelligence based on the idea that systems can learn from data, identify patterns\n",
    "and make decisions with minimal human intervention. It is a computer program that can learn from experience E with respect to some class of tasks T and performance measure P, so that its performance at tasks in T, as measured by P, improves with experience E. Machine Learning has found success in different fields including web search, marketing, E-commerce, robotics, self-driving cars, health care, recommendation system etc. Machine learning was developed and is used for the big problems that are stochastic or open-ended in nature. In addition to this, the problems are time changing and intrinsically hard to solve.\n",
    "\n",
    "Types of Machine Learning Algorithms:\n",
    "1) Supervised Learning: It is also called inductive learning where training data with its corresponding ground truth target value is known beforehand.\n",
    "\n",
    "2) Unsupervised Learning: Here the training data does not include desired target values.\n",
    "\n",
    "3) Semi-Supervised Learning: In this type of learning, only few training data includes desired target values.\n",
    "\n",
    "4) Reinforcement Learning: This type of learning algorithms get rewards from sequence of actions and uses that experience to perform the task optimally making least mistakes.\n",
    "\n",
    "Components of Machine Learning Solution:\n",
    "1) Training data\n",
    "2) Training environment\n",
    "3) Deployment\n",
    "4) Orchestration\n",
    "\n",
    "Components of Machine Learning Algorithms:\n",
    "1) Model Structure (Representation): Decision trees, Neural networks, SVM etc\n",
    "2) Loss Function (Evaluation): Accuracy, precision and recall, entropy etc\n",
    "3) Fitting Parameters (Optimization): Gradient Descent\n",
    "\n",
    "Types of Data:\n",
    "1) Unstructured Data: Images, contents of hard drive etc\n",
    "2) Structured Data: Numerical, Categorical, text etc\n",
    "\n",
    "\n",
    "| Supervised Learning | Unsupervised Learning |\n",
    "| --- | --- |\n",
    "| Supervised learning algorithms are trained using labeled data. | Unsupervised learning algorithms are trained using unlabeled data. |\n",
    "| Supervised learning model takes direct feedback to check if it is predicting correct output or not. | Unsupervised learning model does not take any feedback. |\n",
    "| Supervised learning model predicts the output. | Unsupervised learning model finds the hidden patterns in data. |\n",
    "| In supervised learning, input data is provided to the model along with the output. | In unsupervised learning, only input data is provided to the model. |\n",
    "| The goal of supervised learning is to train the model so that it can predict the output when it is given new data. | The goal of unsupervised learning is to find the hidden patterns and useful insights from the unknown dataset. |\n",
    "| Supervised learning needs supervision to train the model. | Unsupervised learning does not need any supervision to train the model. |\n",
    "| Supervised learning can be categorized in Classification and Regression problems. | Unsupervised Learning can be classified in Clustering and Associations problems. |\n",
    "| Supervised learning can be used for those cases where we know the input as well as corresponding outputs. | Unsupervised learning can be used for those cases where we have only input data and no corresponding output data. |\n",
    "| Supervised learning model produces an accurate result. | Unsupervised learning model may give less accurate result as compared to supervised learning. |\n",
    "| It includes various algorithms such as Linear Regression, Logistic Regression, Support Vector Machine, Multi-class Classification, Decision tree, Bayesian Logic, etc. | It includes various algorithms such as Clustering, KNN, and Apriori algorithm. |\n",
    "\n",
    "Features: A feature is a measurable property of the object we are trying to analyze. Generally speaking, features appear as columns in a dataset. For example, let us consider a public dataset with information about passengers on the ill-fated Titanic maiden voyage. Each feature, or column, represents a measurable piece of data that can be used for analysis: Name, Age, Sex, Fare, and so on. Or in image labeling features usually include patterns, colors, and shapes that are present in images, something like fur, feathers, or, a lower-level version such as pixel values. Features are also sometimes referred to as variables or attributes.\n",
    "\n",
    "Labels: A label is a description that informs an ML model what a particular data represents so that it may learn from the example. Data labeling, also sometimes called data annotation, is the process of adding labels to raw data to show the ML model the desired responses that it should be able to forecast. The data labeling procedure is a critical step performed by managed data labeling teams. A label represents the ground truth that our output data is compared to.\n",
    "\n",
    "Training data: In machine learning, training data is the data we use to train a machine learning algorithm or model. Training data comes in many forms, reflecting the myriad potential applications of machine learning algorithms. Training datasets can include text (words and numbers), images, video, or audio. And they can be available to us in many formats, such as a spreadsheet, PDF, HTML, or JSON. When labeled appropriately, our data can serve as ground truth for developing an evolving, performant machine-learning formula.\n",
    "\n",
    "Testing data: The test dataset is a subset of the training dataset that is utilized to give an objective evaluation of a final model.\n",
    "Testing data has two main criteria. It should:\n",
    "1) Represent the actual dataset \n",
    "2) Be large enough to generate meaningful predictions\n",
    "\n",
    "Model evaluation metrics: Using different metrics for performance evaluation is helpful in improving the model’s overall predictive power before rolling it out for production on unseen data. Accuracy, confusion matrix, log-loss, precision-recall and AUC-ROC are some of the most popular metrics.\n",
    "\n",
    "1) Accuracy: Accuracy simply measures how often the classifier correctly predicts.\n",
    "    Accuracy = (True Positive + True Negative) / (True Positive + True Negative + False Positive + False Negative)\n",
    "    \n",
    "2) Confusion Matrix: Confusion Matrix is a performance measurement for the machine learning classification problems where the output can be two or more classes. It is a table with combinations of predicted and actual values.\n",
    "\n",
    "3) Precision: Precision explains how many of the correctly predicted cases actually turned out to be positive. Precision is useful in the cases where False Positive is a higher concern than False Negatives.\n",
    "    Precision = (True Positive) / (True Positive + False Positive)\n",
    "    \n",
    "4) Recall (Sensitivity):\n",
    "    Recall explains how many of the actual positive cases we were able to predict correctly with our model. Recall is a useful metric in cases where False Negative is of higher concern than False Positive.\n",
    "    Recall = (True Positive) / (True Positive + False Negative)\n",
    "    \n",
    "5) F1-Score:\n",
    "    F1 Score is the harmonic mean of precision and recall. It gives a combined idea about Precision and Recall metrics. It is maximum when Precision is equal to Recall.\n",
    "    F1 = (2 * Precision * Recall) / (Precision + Recall)\n",
    "    \n",
    "6) AUC-ROC (Area Under Curve - Receiver Operator Characteristics): The Receiver Operator Characteristic (ROC) is a probability curve that plots the TPR(True Positive Rate) against the FPR(False Positive Rate) at various threshold values and separates the signal from the noise. The Area Under the Curve (AUC) is the measure of the ability of a classifier to distinguish between classes.\n",
    "\n",
    "7) Log-Loss(Cross Entropy Loss): It is defined as:\n",
    "    Log Loss  = ylog(p) + (1 - y)log(1 - p)\n"
   ]
  },
  {
   "cell_type": "markdown",
   "id": "77af6826",
   "metadata": {},
   "source": [
    "## 2. Install Necessary Tools:"
   ]
  },
  {
   "cell_type": "markdown",
   "id": "0941f114",
   "metadata": {},
   "source": [
    "You will need to install Python, Jupyter Notebook, Numpy, Pandas, Matplotlib and ML library, scikit-learn."
   ]
  },
  {
   "cell_type": "markdown",
   "id": "fc804e48",
   "metadata": {},
   "source": [
    "## 3. Dataset Selection:"
   ]
  },
  {
   "cell_type": "markdown",
   "id": "0691afb9",
   "metadata": {},
   "source": [
    "Choose a simple dataset suitable for binary classification (e.g., the Iris dataset, available in scikit-learn).\n",
    "Briefly describe the dataset."
   ]
  },
  {
   "cell_type": "markdown",
   "id": "63266921",
   "metadata": {},
   "source": [
    "The Iris dataset is one of the most well-known datasets in the world of machine learning and data science. It consists of 3 different types of irises’ (Setosa, Versicolour, and Virginica), stored in a 150x4 numpy.ndarray. The rows being the samples and the columns being: Sepal Length, Sepal Width, Petal Length and Petal Width. The famous Iris database, first used by Sir R.A. Fisher, is taken from Fisher’s paper.\n",
    "\n",
    "This is perhaps the best known database to be found in the pattern recognition literature. Fisher’s paper is a classic in the field and is referenced frequently to this day. The data set contains 3 classes of 50 instances each, where each class refers to a type of iris plant. One class is linearly separable from the other 2; the latter are NOT linearly separable from each other."
   ]
  },
  {
   "cell_type": "markdown",
   "id": "970bc6e2",
   "metadata": {},
   "source": [
    "## 4. Data Exploration:"
   ]
  },
  {
   "cell_type": "markdown",
   "id": "0e442abb",
   "metadata": {},
   "source": [
    "Load the selected dataset and explore its features.\n",
    "Visualize some key characteristics of the data (e.g., scatter plots, histograms)."
   ]
  },
  {
   "cell_type": "code",
   "execution_count": 1,
   "id": "1426fe90",
   "metadata": {},
   "outputs": [
    {
     "data": {
      "text/html": [
       "<div>\n",
       "<style scoped>\n",
       "    .dataframe tbody tr th:only-of-type {\n",
       "        vertical-align: middle;\n",
       "    }\n",
       "\n",
       "    .dataframe tbody tr th {\n",
       "        vertical-align: top;\n",
       "    }\n",
       "\n",
       "    .dataframe thead th {\n",
       "        text-align: right;\n",
       "    }\n",
       "</style>\n",
       "<table border=\"1\" class=\"dataframe\">\n",
       "  <thead>\n",
       "    <tr style=\"text-align: right;\">\n",
       "      <th></th>\n",
       "      <th>sepal length (cm)</th>\n",
       "      <th>sepal width (cm)</th>\n",
       "      <th>petal length (cm)</th>\n",
       "      <th>petal width (cm)</th>\n",
       "      <th>target_names</th>\n",
       "    </tr>\n",
       "  </thead>\n",
       "  <tbody>\n",
       "    <tr>\n",
       "      <th>0</th>\n",
       "      <td>5.1</td>\n",
       "      <td>3.5</td>\n",
       "      <td>1.4</td>\n",
       "      <td>0.2</td>\n",
       "      <td>setosa</td>\n",
       "    </tr>\n",
       "    <tr>\n",
       "      <th>1</th>\n",
       "      <td>4.9</td>\n",
       "      <td>3.0</td>\n",
       "      <td>1.4</td>\n",
       "      <td>0.2</td>\n",
       "      <td>setosa</td>\n",
       "    </tr>\n",
       "    <tr>\n",
       "      <th>2</th>\n",
       "      <td>4.7</td>\n",
       "      <td>3.2</td>\n",
       "      <td>1.3</td>\n",
       "      <td>0.2</td>\n",
       "      <td>setosa</td>\n",
       "    </tr>\n",
       "    <tr>\n",
       "      <th>3</th>\n",
       "      <td>4.6</td>\n",
       "      <td>3.1</td>\n",
       "      <td>1.5</td>\n",
       "      <td>0.2</td>\n",
       "      <td>setosa</td>\n",
       "    </tr>\n",
       "    <tr>\n",
       "      <th>4</th>\n",
       "      <td>5.0</td>\n",
       "      <td>3.6</td>\n",
       "      <td>1.4</td>\n",
       "      <td>0.2</td>\n",
       "      <td>setosa</td>\n",
       "    </tr>\n",
       "  </tbody>\n",
       "</table>\n",
       "</div>"
      ],
      "text/plain": [
       "   sepal length (cm)  sepal width (cm)  petal length (cm)  petal width (cm)  \\\n",
       "0                5.1               3.5                1.4               0.2   \n",
       "1                4.9               3.0                1.4               0.2   \n",
       "2                4.7               3.2                1.3               0.2   \n",
       "3                4.6               3.1                1.5               0.2   \n",
       "4                5.0               3.6                1.4               0.2   \n",
       "\n",
       "  target_names  \n",
       "0       setosa  \n",
       "1       setosa  \n",
       "2       setosa  \n",
       "3       setosa  \n",
       "4       setosa  "
      ]
     },
     "execution_count": 1,
     "metadata": {},
     "output_type": "execute_result"
    }
   ],
   "source": [
    "import pandas as pd\n",
    "from sklearn import datasets\n",
    "\n",
    "# Load the iris dataset from sklearn with as_frame=True so we can work with pandas objects\n",
    "iris = datasets.load_iris(as_frame=True)\n",
    "\n",
    "#store rows of observations in X and corresponding class in y\n",
    "X = iris.data\n",
    "y = iris.target\n",
    "\n",
    "# Convert the iris dataset to a pandas dataframe\n",
    "iris_df = pd.DataFrame(iris.data, columns=iris.feature_names)\n",
    "\n",
    "# Add the target variable to the dataframe\n",
    "iris_df['target_names'] = iris.target\n",
    "\n",
    "# Map targets denoted numerically to target names\n",
    "target_names = {\n",
    "    0:'setosa',\n",
    "    1:'versicolor', \n",
    "    2:'virginica'\n",
    "}\n",
    "iris_df['target_names'] = iris_df['target_names'].map(target_names)\n",
    "\n",
    "# Print the first 5 rows of the dataframe\n",
    "iris_df.head()"
   ]
  },
  {
   "cell_type": "code",
   "execution_count": 2,
   "id": "9346fb04",
   "metadata": {},
   "outputs": [
    {
     "name": "stdout",
     "output_type": "stream",
     "text": [
      "<class 'pandas.core.frame.DataFrame'>\n",
      "RangeIndex: 150 entries, 0 to 149\n",
      "Data columns (total 5 columns):\n",
      " #   Column             Non-Null Count  Dtype  \n",
      "---  ------             --------------  -----  \n",
      " 0   sepal length (cm)  150 non-null    float64\n",
      " 1   sepal width (cm)   150 non-null    float64\n",
      " 2   petal length (cm)  150 non-null    float64\n",
      " 3   petal width (cm)   150 non-null    float64\n",
      " 4   target_names       150 non-null    object \n",
      "dtypes: float64(4), object(1)\n",
      "memory usage: 6.0+ KB\n"
     ]
    }
   ],
   "source": [
    "#Get a concise summary of the dataframe\n",
    "iris_df.info()"
   ]
  },
  {
   "cell_type": "code",
   "execution_count": 3,
   "id": "d05f143b",
   "metadata": {},
   "outputs": [
    {
     "data": {
      "text/plain": [
       "(150, 5)"
      ]
     },
     "execution_count": 3,
     "metadata": {},
     "output_type": "execute_result"
    }
   ],
   "source": [
    "#print tuple with number of corresponding elements in array\n",
    "iris_df.shape"
   ]
  },
  {
   "cell_type": "code",
   "execution_count": 4,
   "id": "f2b110ba",
   "metadata": {},
   "outputs": [
    {
     "data": {
      "text/html": [
       "<div>\n",
       "<style scoped>\n",
       "    .dataframe tbody tr th:only-of-type {\n",
       "        vertical-align: middle;\n",
       "    }\n",
       "\n",
       "    .dataframe tbody tr th {\n",
       "        vertical-align: top;\n",
       "    }\n",
       "\n",
       "    .dataframe thead th {\n",
       "        text-align: right;\n",
       "    }\n",
       "</style>\n",
       "<table border=\"1\" class=\"dataframe\">\n",
       "  <thead>\n",
       "    <tr style=\"text-align: right;\">\n",
       "      <th></th>\n",
       "      <th>sepal length (cm)</th>\n",
       "      <th>sepal width (cm)</th>\n",
       "      <th>petal length (cm)</th>\n",
       "      <th>petal width (cm)</th>\n",
       "    </tr>\n",
       "  </thead>\n",
       "  <tbody>\n",
       "    <tr>\n",
       "      <th>count</th>\n",
       "      <td>150.000000</td>\n",
       "      <td>150.000000</td>\n",
       "      <td>150.000000</td>\n",
       "      <td>150.000000</td>\n",
       "    </tr>\n",
       "    <tr>\n",
       "      <th>mean</th>\n",
       "      <td>5.843333</td>\n",
       "      <td>3.057333</td>\n",
       "      <td>3.758000</td>\n",
       "      <td>1.199333</td>\n",
       "    </tr>\n",
       "    <tr>\n",
       "      <th>std</th>\n",
       "      <td>0.828066</td>\n",
       "      <td>0.435866</td>\n",
       "      <td>1.765298</td>\n",
       "      <td>0.762238</td>\n",
       "    </tr>\n",
       "    <tr>\n",
       "      <th>min</th>\n",
       "      <td>4.300000</td>\n",
       "      <td>2.000000</td>\n",
       "      <td>1.000000</td>\n",
       "      <td>0.100000</td>\n",
       "    </tr>\n",
       "    <tr>\n",
       "      <th>25%</th>\n",
       "      <td>5.100000</td>\n",
       "      <td>2.800000</td>\n",
       "      <td>1.600000</td>\n",
       "      <td>0.300000</td>\n",
       "    </tr>\n",
       "    <tr>\n",
       "      <th>50%</th>\n",
       "      <td>5.800000</td>\n",
       "      <td>3.000000</td>\n",
       "      <td>4.350000</td>\n",
       "      <td>1.300000</td>\n",
       "    </tr>\n",
       "    <tr>\n",
       "      <th>75%</th>\n",
       "      <td>6.400000</td>\n",
       "      <td>3.300000</td>\n",
       "      <td>5.100000</td>\n",
       "      <td>1.800000</td>\n",
       "    </tr>\n",
       "    <tr>\n",
       "      <th>max</th>\n",
       "      <td>7.900000</td>\n",
       "      <td>4.400000</td>\n",
       "      <td>6.900000</td>\n",
       "      <td>2.500000</td>\n",
       "    </tr>\n",
       "  </tbody>\n",
       "</table>\n",
       "</div>"
      ],
      "text/plain": [
       "       sepal length (cm)  sepal width (cm)  petal length (cm)  \\\n",
       "count         150.000000        150.000000         150.000000   \n",
       "mean            5.843333          3.057333           3.758000   \n",
       "std             0.828066          0.435866           1.765298   \n",
       "min             4.300000          2.000000           1.000000   \n",
       "25%             5.100000          2.800000           1.600000   \n",
       "50%             5.800000          3.000000           4.350000   \n",
       "75%             6.400000          3.300000           5.100000   \n",
       "max             7.900000          4.400000           6.900000   \n",
       "\n",
       "       petal width (cm)  \n",
       "count        150.000000  \n",
       "mean           1.199333  \n",
       "std            0.762238  \n",
       "min            0.100000  \n",
       "25%            0.300000  \n",
       "50%            1.300000  \n",
       "75%            1.800000  \n",
       "max            2.500000  "
      ]
     },
     "execution_count": 4,
     "metadata": {},
     "output_type": "execute_result"
    }
   ],
   "source": [
    "#Generate descriptive statistics\n",
    "iris_df.describe()"
   ]
  },
  {
   "cell_type": "code",
   "execution_count": 5,
   "id": "1f24c7be",
   "metadata": {},
   "outputs": [
    {
     "data": {
      "text/plain": [
       "target_names\n",
       "setosa        50\n",
       "versicolor    50\n",
       "virginica     50\n",
       "dtype: int64"
      ]
     },
     "execution_count": 5,
     "metadata": {},
     "output_type": "execute_result"
    }
   ],
   "source": [
    "#print a series containing counts of unique values\n",
    "iris_df.value_counts(\"target_names\")"
   ]
  },
  {
   "cell_type": "code",
   "execution_count": 6,
   "id": "dee51334",
   "metadata": {},
   "outputs": [
    {
     "data": {
      "image/png": "[encoded data removed]",
      "text/plain": [
       "<Figure size 640x480 with 1 Axes>"
      ]
     },
     "metadata": {},
     "output_type": "display_data"
    },
    {
     "data": {
      "image/png": "[encoded data removed]",
      "text/plain": [
       "<Figure size 1000x1000 with 4 Axes>"
      ]
     },
     "metadata": {},
     "output_type": "display_data"
    }
   ],
   "source": [
    "import seaborn as sns\n",
    "import matplotlib.pyplot as plt\n",
    "\n",
    "#scatter plot for sepal width and petal width\n",
    "sns.scatterplot(x='sepal width (cm)', y='petal width (cm)',\n",
    "                hue='target_names', data=iris_df, )\n",
    "# Placing Legend outside the Figure\n",
    "plt.legend(bbox_to_anchor=(1, 1), loc=2)\n",
    "plt.show()\n",
    "\n",
    "#histogram for sepal length, sepal width, petal length and petal width\n",
    "fig, axes = plt.subplots(2, 2, figsize=(10,10))\n",
    "\n",
    "axes[0,0].set_title(\"Sepal Length\")\n",
    "axes[0,0].hist(iris_df['sepal length (cm)'], bins=7)\n",
    " \n",
    "axes[0,1].set_title(\"Sepal Width\")\n",
    "axes[0,1].hist(iris_df['sepal width (cm)'], bins=5);\n",
    " \n",
    "axes[1,0].set_title(\"Petal Length\")\n",
    "axes[1,0].hist(iris_df['petal length (cm)'], bins=6);\n",
    " \n",
    "axes[1,1].set_title(\"Petal Width\")\n",
    "axes[1,1].hist(iris_df['petal width (cm)'], bins=6);"
   ]
  },
  {
   "cell_type": "code",
   "execution_count": 7,
   "id": "cbe3f04b",
   "metadata": {},
   "outputs": [
    {
     "name": "stderr",
     "output_type": "stream",
     "text": [
      "C:\\Users\\Acer\\AppData\\Local\\Temp\\ipykernel_21488\\3618615503.py:3: FutureWarning: The default value of numeric_only in DataFrame.corr is deprecated. In a future version, it will default to False. Select only valid columns or specify the value of numeric_only to silence this warning.\n",
      "  sns.heatmap(iris_df.corr(method='pearson'), annot=True)\n"
     ]
    },
    {
     "data": {
      "image/png": "[encoded data removed]",
      "text/plain": [
       "<Figure size 700x500 with 2 Axes>"
      ]
     },
     "metadata": {},
     "output_type": "display_data"
    }
   ],
   "source": [
    "plt.figure(figsize=(7,5))\n",
    "# Plotting the heatmap\n",
    "sns.heatmap(iris_df.corr(method='pearson'), annot=True)\n",
    "plt.show()"
   ]
  },
  {
   "cell_type": "markdown",
   "id": "e51eb651",
   "metadata": {},
   "source": [
    "## 5. Data Preprocessing:"
   ]
  },
  {
   "cell_type": "markdown",
   "id": "c38fc08a",
   "metadata": {},
   "source": [
    "Handle any missing values in the dataset.\n",
    "Split the dataset into training and testing sets."
   ]
  },
  {
   "cell_type": "code",
   "execution_count": 8,
   "id": "98a55be2",
   "metadata": {},
   "outputs": [
    {
     "data": {
      "text/plain": [
       "sepal length (cm)    0\n",
       "sepal width (cm)     0\n",
       "petal length (cm)    0\n",
       "petal width (cm)     0\n",
       "target_names         0\n",
       "dtype: int64"
      ]
     },
     "execution_count": 8,
     "metadata": {},
     "output_type": "execute_result"
    }
   ],
   "source": [
    "#print number of missing values in the dataset\n",
    "iris_df.isnull().sum()"
   ]
  },
  {
   "cell_type": "code",
   "execution_count": 9,
   "id": "8a9329fb",
   "metadata": {},
   "outputs": [
    {
     "name": "stdout",
     "output_type": "stream",
     "text": [
      "Number of duplicates: 1\n"
     ]
    }
   ],
   "source": [
    "#check for duplicate entries in dataset\n",
    "duplicates = iris_df[iris_df.duplicated()]\n",
    "print(\"Number of duplicates:\", len(duplicates))"
   ]
  },
  {
   "cell_type": "code",
   "execution_count": 10,
   "id": "221037b0",
   "metadata": {},
   "outputs": [],
   "source": [
    "# Drop duplicates\n",
    "iris_df = iris_df.drop_duplicates()"
   ]
  },
  {
   "cell_type": "code",
   "execution_count": 11,
   "id": "63a56859",
   "metadata": {},
   "outputs": [
    {
     "data": {
      "text/plain": [
       "(149, 5)"
      ]
     },
     "execution_count": 11,
     "metadata": {},
     "output_type": "execute_result"
    }
   ],
   "source": [
    "iris_df.shape"
   ]
  },
  {
   "cell_type": "code",
   "execution_count": 12,
   "id": "3ca5ad3c",
   "metadata": {},
   "outputs": [
    {
     "name": "stdout",
     "output_type": "stream",
     "text": [
      "(105, 4)\n",
      "(45, 4)\n"
     ]
    }
   ],
   "source": [
    "from sklearn.model_selection import train_test_split\n",
    "\n",
    "#split the data into 70% and 30% ratio. train=70% and test=30% and with random shuffling everytime it is executed\n",
    "X_train, X_test, y_train, y_test = train_test_split(X, y, test_size = 0.3, random_state=1) \n",
    "print(X_train.shape)\n",
    "print(X_test.shape)"
   ]
  },
  {
   "cell_type": "markdown",
   "id": "3f08da89",
   "metadata": {},
   "source": [
    "## 6. Model Selection:"
   ]
  },
  {
   "cell_type": "markdown",
   "id": "b22415ae",
   "metadata": {},
   "source": [
    "Choose a simple supervised learning model (e.g., logistic regression or a decision tree) for binary classification.\n",
    "Explain the chosen model and its basic principles."
   ]
  },
  {
   "cell_type": "markdown",
   "id": "ac73b7b0",
   "metadata": {},
   "source": [
    "Support vector machines (SVMs) are a set of supervised learning methods used for classification, regression and outliers detection.\n",
    "We can use a support vector machine (SVM) when your data has exactly two classes. An SVM classifies data by finding the best\n",
    "hyperplane that separates all data points of one class from those of the other class. The best hyperplane for an SVM means the\n",
    "one with the largest margin between the two classes. Margin means the maximal width of the slab parallel to the hyperplane that\n",
    "has no interior data points. The advantages of SVM are that they are effective in high dimensional spaces, still effective in cases where number of dimensions is greater than the number of samples, memory efficient and versatile. SVM algorithm can be used for Face detection, image classification, text categorization, etc.\n",
    "\n",
    "Basic Principle:\n",
    "The goal of the SVM algorithm is to create the best line or decision boundary that can segregate n-dimensional space into classes so that we can easily put the new data point in the correct category in the future. This best decision boundary is called a hyperplane. SVM chooses the extreme points/vectors that help in creating the hyperplane. These extreme cases are called as support vectors, and hence algorithm is termed as Support Vector Machine.\n",
    "Hyperplane: There can be multiple lines/decision boundaries to segregate the classes in n-dimensional space, but we need to find out the best decision boundary that helps to classify the data points. The dimensions of the hyperplane depend on the features present in the dataset meaning it can be a straight line, 2-D plane and so on. We always create a hyperplane that has a maximum margin, which means the maximum distance between the data points.\n",
    "Support Vectors: The data points or vectors that are the closest to the hyperplane and which affect the position of the hyperplane are termed as Support Vector. Since these vectors support the hyperplane, hence called a Support vector."
   ]
  },
  {
   "cell_type": "markdown",
   "id": "98b65bb4",
   "metadata": {},
   "source": [
    "## 7. Model Implementation:"
   ]
  },
  {
   "cell_type": "markdown",
   "id": "359575bc",
   "metadata": {},
   "source": [
    "Implement the chosen model using scikit-learn.\n",
    "Train the model on the training set and make predictions on the testing set."
   ]
  },
  {
   "cell_type": "code",
   "execution_count": 13,
   "id": "43c0b6ae",
   "metadata": {},
   "outputs": [],
   "source": [
    "from sklearn import svm\n",
    "from sklearn.metrics import accuracy_score, precision_score, recall_score, f1_score, classification_report, confusion_matrix\n",
    "\n",
    "#select the algorithm as SVM\n",
    "model = svm.SVC()\n",
    "# train the algorithm with the training data and the training output\n",
    "model.fit(X_train, y_train)\n",
    "#pass the testing data to the trained algorithm to make predictions\n",
    "prediction=model.predict(X_test)"
   ]
  },
  {
   "cell_type": "markdown",
   "id": "269c55af",
   "metadata": {},
   "source": [
    "## 8. Evaluation:"
   ]
  },
  {
   "cell_type": "markdown",
   "id": "7e6cf6d0",
   "metadata": {},
   "source": [
    "Evaluate the performance of the model using appropriate metrics (e.g., accuracy, precision, recall).\n",
    "Discuss the results and potential areas for improvement."
   ]
  },
  {
   "cell_type": "code",
   "execution_count": 15,
   "id": "96343a9b",
   "metadata": {},
   "outputs": [
    {
     "name": "stdout",
     "output_type": "stream",
     "text": [
      "The accuracy of the SVM is: 0.9777777777777777\n",
      "The precision of the SVM is: 0.9777777777777777\n",
      "The recall of the SVM is: 0.9777777777777777\n",
      "F1 score: 0.9777777777777777\n",
      "\n",
      "Classification report:\n",
      "\n",
      "              precision    recall  f1-score   support\n",
      "\n",
      "           0       1.00      1.00      1.00        14\n",
      "           1       1.00      0.94      0.97        18\n",
      "           2       0.93      1.00      0.96        13\n",
      "\n",
      "    accuracy                           0.98        45\n",
      "   macro avg       0.98      0.98      0.98        45\n",
      "weighted avg       0.98      0.98      0.98        45\n",
      "\n",
      "\n",
      "Confusion Matrix:\n",
      "\n",
      "[[14  0  0]\n",
      " [ 0 17  1]\n",
      " [ 0  0 13]]\n"
     ]
    }
   ],
   "source": [
    "#check the accuracy, precision, recall and f1_score of the algorithm. \n",
    "print('The accuracy of the SVM is:', accuracy_score(prediction,y_test))\n",
    "print('The precision of the SVM is:', precision_score(prediction,y_test, average='micro'))\n",
    "print('The recall of the SVM is:', recall_score(prediction,y_test, average='micro'))\n",
    "f1score = f1_score(y_test, prediction, average='micro')\n",
    "print(\"F1 score:\", f1score)\n",
    "# A detailed classification report and confusion matrix\n",
    "print(\"\\nClassification report:\\n\")\n",
    "print(classification_report(y_test, prediction))\n",
    "print(\"\\nConfusion Matrix:\\n\")\n",
    "print(confusion_matrix(y_test, prediction))"
   ]
  },
  {
   "cell_type": "markdown",
   "id": "7aeb6b45",
   "metadata": {},
   "source": [
    "As it can be seen that accuracy of the classifier is 80%(approx) which is an exceptional result. Confusion matrix also shows that only one misclassification is made by the classifier which is good. To improve the result further, more samples can be added in the dataset so that the model will be even more successful in learning the complex patterns and make it suitable for real time applications also."
   ]
  },
  {
   "cell_type": "markdown",
   "id": "a6d3fbca",
   "metadata": {},
   "source": [
    "## 9. Reflection:"
   ]
  },
  {
   "cell_type": "markdown",
   "id": "069957f0",
   "metadata": {},
   "source": [
    "Reflect on the experience of working on the assignment.\n",
    "Share any challenges faced and insights gained."
   ]
  },
  {
   "cell_type": "markdown",
   "id": "606269ad",
   "metadata": {},
   "source": [
    "The assignment provided gentle introduction to machine learning concepts and practical implementation. The assignment will set a strong foundation for further learning and programming of the complex algorithms. \n",
    "Converting the loaded dataset to a pandas dataframe, so that it can be used for easy visualization and data processing purpose, was quite a confusing task in a nutshell. Pandas dataframe is a very useful object in machine learning domain as it simplifies the complex process, debugging and implementation."
   ]
  }
 ],
 "metadata": {
  "kernelspec": {
   "display_name": "Python 3 (ipykernel)",
   "language": "python",
   "name": "python3"
  },
  "language_info": {
   "codemirror_mode": {
    "name": "ipython",
    "version": 3
   },
   "file_extension": ".py",
   "mimetype": "text/x-python",
   "name": "python",
   "nbconvert_exporter": "python",
   "pygments_lexer": "ipython3",
   "version": "3.10.9"
  }
 },
 "nbformat": 4,
 "nbformat_minor": 5
}
